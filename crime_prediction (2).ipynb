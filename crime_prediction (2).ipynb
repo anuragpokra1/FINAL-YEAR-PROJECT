{
  "cells": [
    {
      "cell_type": "code",
      "execution_count": null,
      "metadata": {
        "id": "sIoXkLSmWhCX"
      },
      "outputs": [],
      "source": [
        "import pandas as pd # panda's nickname is pd\n",
        "import numpy as np\n",
        "import sklearn.metrics as metrics\n",
        "from sklearn.tree import DecisionTreeClassifier, export_graphviz\n",
        "from sklearn import svm\n",
        "from sklearn.model_selection import cross_val_score\n",
        "from sklearn.linear_model import LogisticRegression\n",
        "from  sklearn.linear_model import LinearRegression\n",
        "from sklearn.naive_bayes import GaussianNB\n",
        "from sklearn.model_selection import validation_curve\n",
        "from sklearn.preprocessing import binarize\n",
        "import matplotlib.pyplot as plot\n",
        "from sklearn import linear_model\n",
        "from IPython.display import Image \n",
        "from sklearn.preprocessing import Imputer\n",
        "from sklearn.preprocessing import PolynomialFeatures\n",
        "from sklearn import tree\n",
        "import sklearn.preprocessing as prep\n",
        "import pydotplus \n",
        "import math\n",
        "from sklearn.linear_model import RidgeCV\n",
        "import sklearn.linear_model as linear_model\n",
        "from sklearn.model_selection import GridSearchCV\n",
        "from sklearn.cluster import KMeans\n",
        "from sklearn.ensemble import GradientBoostingClassifier\n",
        "from sklearn.ensemble import RandomForestClassifier\n",
        "import matplotlib.pyplot as plt"
      ]
    },
    {
      "cell_type": "markdown",
      "metadata": {
        "id": "elTdIRm5WhCZ"
      },
      "source": [
        "#### Load the communities-crime-clean.csv file into a dataframe object\n"
      ]
    },
    {
      "cell_type": "code",
      "execution_count": null,
      "metadata": {
        "id": "eakDOsZvWhCZ",
        "outputId": "1799486d-65db-4472-f9a6-8861cbbe1f88"
      },
      "outputs": [
        {
          "data": {
            "text/html": [
              "<div>\n",
              "<table border=\"1\" class=\"dataframe\">\n",
              "  <thead>\n",
              "    <tr style=\"text-align: right;\">\n",
              "      <th></th>\n",
              "      <th>state</th>\n",
              "      <th>communityname</th>\n",
              "      <th>fold</th>\n",
              "      <th>population</th>\n",
              "      <th>householdsize</th>\n",
              "      <th>racepctblack</th>\n",
              "      <th>racePctWhite</th>\n",
              "      <th>racePctAsian</th>\n",
              "      <th>racePctHisp</th>\n",
              "      <th>agePct12t21</th>\n",
              "      <th>...</th>\n",
              "      <th>PctForeignBorn</th>\n",
              "      <th>PctBornSameState</th>\n",
              "      <th>PctSameHouse85</th>\n",
              "      <th>PctSameCity85</th>\n",
              "      <th>PctSameState85</th>\n",
              "      <th>LandArea</th>\n",
              "      <th>PopDens</th>\n",
              "      <th>PctUsePubTrans</th>\n",
              "      <th>LemasPctOfficDrugUn</th>\n",
              "      <th>ViolentCrimesPerPop</th>\n",
              "    </tr>\n",
              "  </thead>\n",
              "  <tbody>\n",
              "    <tr>\n",
              "      <th>0</th>\n",
              "      <td>1</td>\n",
              "      <td>Alabastercity</td>\n",
              "      <td>7</td>\n",
              "      <td>0.01</td>\n",
              "      <td>0.61</td>\n",
              "      <td>0.21</td>\n",
              "      <td>0.83</td>\n",
              "      <td>0.02</td>\n",
              "      <td>0.01</td>\n",
              "      <td>0.41</td>\n",
              "      <td>...</td>\n",
              "      <td>0.03</td>\n",
              "      <td>0.70</td>\n",
              "      <td>0.40</td>\n",
              "      <td>0.34</td>\n",
              "      <td>0.57</td>\n",
              "      <td>0.05</td>\n",
              "      <td>0.06</td>\n",
              "      <td>0.01</td>\n",
              "      <td>0.0</td>\n",
              "      <td>0.06</td>\n",
              "    </tr>\n",
              "    <tr>\n",
              "      <th>1</th>\n",
              "      <td>1</td>\n",
              "      <td>AlexanderCitycity</td>\n",
              "      <td>10</td>\n",
              "      <td>0.01</td>\n",
              "      <td>0.41</td>\n",
              "      <td>0.55</td>\n",
              "      <td>0.57</td>\n",
              "      <td>0.01</td>\n",
              "      <td>0.00</td>\n",
              "      <td>0.47</td>\n",
              "      <td>...</td>\n",
              "      <td>0.00</td>\n",
              "      <td>0.93</td>\n",
              "      <td>0.66</td>\n",
              "      <td>0.82</td>\n",
              "      <td>0.84</td>\n",
              "      <td>0.11</td>\n",
              "      <td>0.03</td>\n",
              "      <td>0.01</td>\n",
              "      <td>0.0</td>\n",
              "      <td>0.14</td>\n",
              "    </tr>\n",
              "    <tr>\n",
              "      <th>2</th>\n",
              "      <td>1</td>\n",
              "      <td>Annistoncity</td>\n",
              "      <td>3</td>\n",
              "      <td>0.03</td>\n",
              "      <td>0.34</td>\n",
              "      <td>0.86</td>\n",
              "      <td>0.30</td>\n",
              "      <td>0.04</td>\n",
              "      <td>0.01</td>\n",
              "      <td>0.41</td>\n",
              "      <td>...</td>\n",
              "      <td>0.04</td>\n",
              "      <td>0.77</td>\n",
              "      <td>0.59</td>\n",
              "      <td>0.70</td>\n",
              "      <td>0.64</td>\n",
              "      <td>0.06</td>\n",
              "      <td>0.11</td>\n",
              "      <td>0.04</td>\n",
              "      <td>0.0</td>\n",
              "      <td>1.00</td>\n",
              "    </tr>\n",
              "    <tr>\n",
              "      <th>3</th>\n",
              "      <td>1</td>\n",
              "      <td>Athenscity</td>\n",
              "      <td>8</td>\n",
              "      <td>0.01</td>\n",
              "      <td>0.38</td>\n",
              "      <td>0.35</td>\n",
              "      <td>0.71</td>\n",
              "      <td>0.04</td>\n",
              "      <td>0.01</td>\n",
              "      <td>0.39</td>\n",
              "      <td>...</td>\n",
              "      <td>0.03</td>\n",
              "      <td>0.78</td>\n",
              "      <td>0.56</td>\n",
              "      <td>0.67</td>\n",
              "      <td>0.71</td>\n",
              "      <td>0.09</td>\n",
              "      <td>0.05</td>\n",
              "      <td>0.00</td>\n",
              "      <td>0.0</td>\n",
              "      <td>0.23</td>\n",
              "    </tr>\n",
              "    <tr>\n",
              "      <th>4</th>\n",
              "      <td>1</td>\n",
              "      <td>Auburncity</td>\n",
              "      <td>1</td>\n",
              "      <td>0.04</td>\n",
              "      <td>0.37</td>\n",
              "      <td>0.32</td>\n",
              "      <td>0.70</td>\n",
              "      <td>0.21</td>\n",
              "      <td>0.02</td>\n",
              "      <td>1.00</td>\n",
              "      <td>...</td>\n",
              "      <td>0.12</td>\n",
              "      <td>0.49</td>\n",
              "      <td>0.12</td>\n",
              "      <td>0.00</td>\n",
              "      <td>0.15</td>\n",
              "      <td>0.09</td>\n",
              "      <td>0.09</td>\n",
              "      <td>0.01</td>\n",
              "      <td>0.0</td>\n",
              "      <td>0.15</td>\n",
              "    </tr>\n",
              "  </tbody>\n",
              "</table>\n",
              "<p>5 rows × 104 columns</p>\n",
              "</div>"
            ],
            "text/plain": [
              "   state      communityname  fold  population  householdsize  racepctblack  \\\n",
              "0      1      Alabastercity     7        0.01           0.61          0.21   \n",
              "1      1  AlexanderCitycity    10        0.01           0.41          0.55   \n",
              "2      1       Annistoncity     3        0.03           0.34          0.86   \n",
              "3      1         Athenscity     8        0.01           0.38          0.35   \n",
              "4      1         Auburncity     1        0.04           0.37          0.32   \n",
              "\n",
              "   racePctWhite  racePctAsian  racePctHisp  agePct12t21         ...           \\\n",
              "0          0.83          0.02         0.01         0.41         ...            \n",
              "1          0.57          0.01         0.00         0.47         ...            \n",
              "2          0.30          0.04         0.01         0.41         ...            \n",
              "3          0.71          0.04         0.01         0.39         ...            \n",
              "4          0.70          0.21         0.02         1.00         ...            \n",
              "\n",
              "   PctForeignBorn  PctBornSameState  PctSameHouse85  PctSameCity85  \\\n",
              "0            0.03              0.70            0.40           0.34   \n",
              "1            0.00              0.93            0.66           0.82   \n",
              "2            0.04              0.77            0.59           0.70   \n",
              "3            0.03              0.78            0.56           0.67   \n",
              "4            0.12              0.49            0.12           0.00   \n",
              "\n",
              "   PctSameState85  LandArea  PopDens  PctUsePubTrans  LemasPctOfficDrugUn  \\\n",
              "0            0.57      0.05     0.06            0.01                  0.0   \n",
              "1            0.84      0.11     0.03            0.01                  0.0   \n",
              "2            0.64      0.06     0.11            0.04                  0.0   \n",
              "3            0.71      0.09     0.05            0.00                  0.0   \n",
              "4            0.15      0.09     0.09            0.01                  0.0   \n",
              "\n",
              "   ViolentCrimesPerPop  \n",
              "0                 0.06  \n",
              "1                 0.14  \n",
              "2                 1.00  \n",
              "3                 0.23  \n",
              "4                 0.15  \n",
              "\n",
              "[5 rows x 104 columns]"
            ]
          },
          "execution_count": 71,
          "metadata": {},
          "output_type": "execute_result"
        }
      ],
      "source": [
        "communities_crime_df = pd.read_csv('communities-crime-clean.csv')\n",
        "\n",
        "# Sanity test we have good data\n",
        "communities_crime_df.head()\n"
      ]
    },
    {
      "cell_type": "markdown",
      "metadata": {
        "id": "cmFJm_WcWhCa"
      },
      "source": [
        "### Q1. Decision Trees\n",
        "---\n",
        "#### a) Create a new field “highCrime” which is true if the crime rate per capita (ViolentCrimesPerPop) is greater than 0.1, and false otherwise. What are the percentage of positive and negative instances in the dataset?"
      ]
    },
    {
      "cell_type": "code",
      "execution_count": null,
      "metadata": {
        "id": "ICGHu3WAWhCh",
        "outputId": "cb114c0f-391b-4e45-9474-e72bf192e4e2"
      },
      "outputs": [
        {
          "name": "stdout",
          "output_type": "stream",
          "text": [
            "highCrime\n",
            "False    37.280482\n",
            "True     62.719518\n",
            "dtype: float64\n",
            "------------------\n",
            "Percentage Positive Instance = 62.719518314099346\n",
            "Percentage Negative Instance = 37.280481685900654 \n"
          ]
        }
      ],
      "source": [
        "def setHighCrime(df):\n",
        "    '''Function to set value of highCrime depending on ViolentCrimesPerPop'''\n",
        "    if df['ViolentCrimesPerPop'] > 0.1:\n",
        "        return True\n",
        "    else:\n",
        "        return False\n",
        "    \n",
        "# Adding a new field \"highCrime\"\n",
        "communities_crime_df['highCrime'] = communities_crime_df.apply(setHighCrime, axis=1)\n",
        "\n",
        "# Calculating the percentage of positive and negative instances in the dataset\n",
        "percentage_intances = communities_crime_df.groupby('highCrime').size() * 100 / len(communities_crime_df)\n",
        "print(percentage_intances)\n",
        "print(\"------------------\")\n",
        "print(\"Percentage Positive Instance = {}\\nPercentage Negative Instance = {} \".format(percentage_intances[1],percentage_intances[0]))\n"
      ]
    },
    {
      "cell_type": "markdown",
      "metadata": {
        "id": "JYzZyxs4WhCi"
      },
      "source": [
        "#### b) Use DecisionTreeClassifier to learn a decision tree to predict highCrime on the entire dataset  \n",
        "##### i. What are the training accuracy, precision, and recall for this tree?"
      ]
    },
    {
      "cell_type": "code",
      "execution_count": null,
      "metadata": {
        "id": "23ROO_VEWhCj",
        "outputId": "1584a78e-0775-4e0c-f466-b3f86a3a037c"
      },
      "outputs": [
        {
          "name": "stdout",
          "output_type": "stream",
          "text": [
            "Training Accuracy = 1.0 Precision = 1.0 Recall = 1.0\n"
          ]
        }
      ],
      "source": [
        "#Dropping non-predictive fields as well as ViolentCrimesPerPop field \n",
        "X = communities_crime_df.drop('ViolentCrimesPerPop', axis=1).drop('state', axis=1).drop('communityname', axis=1).drop('fold', axis=1).drop('highCrime', axis=1)\n",
        "features = list(X.columns)\n",
        "y = communities_crime_df[\"highCrime\"]\n",
        "\n",
        "\n",
        "# First, we tried by not defining the max depth\n",
        "dt_clf = DecisionTreeClassifier()\n",
        "dt_clf.fit(X,y)\n",
        "predicted = dt_clf.predict(X[features])\n",
        "recall_score = metrics.recall_score(communities_crime_df['highCrime'], predicted)\n",
        "precision_score = metrics.precision_score(communities_crime_df['highCrime'], predicted)\n",
        "accuracy_score = metrics.accuracy_score(communities_crime_df['highCrime'], predicted)\n",
        "print(\"Training Accuracy = {} Precision = {} Recall = {}\".format(accuracy_score,precision_score,recall_score))"
      ]
    },
    {
      "cell_type": "markdown",
      "metadata": {
        "collapsed": false,
        "id": "uDcZ4quCWhCj"
      },
      "source": [
        "#### The scores values shows overfitting so we can define max_depth to avoid the complexity of the tree and to reach a point from where there is a decrease in the cross validation performance."
      ]
    },
    {
      "cell_type": "code",
      "execution_count": null,
      "metadata": {
        "id": "FcamPQfrWhCk",
        "outputId": "f2d5956f-1c0a-4f58-827d-ef9ec8cf1ca7"
      },
      "outputs": [
        {
          "name": "stdout",
          "output_type": "stream",
          "text": [
            "Depth: 1 Accuracy: 0.761\n",
            "Depth: 2 Accuracy: 0.776\n",
            "Depth: 3 Accuracy: 0.798\n",
            "Depth: 4 Accuracy: 0.790\n",
            "Depth: 5 Accuracy: 0.779\n",
            "Depth: 6 Accuracy: 0.768\n",
            "Depth: 7 Accuracy: 0.763\n",
            "Depth: 8 Accuracy: 0.746\n",
            "Depth: 9 Accuracy: 0.744\n"
          ]
        }
      ],
      "source": [
        "for depth in range(1,10):\n",
        "    tree_clf = DecisionTreeClassifier(max_depth=depth, random_state=0)\n",
        "    if tree_clf.fit(X,y).tree_.max_depth < depth:\n",
        "        break\n",
        "    score = np.mean(cross_val_score(tree_clf, X, y,scoring='accuracy', cv=10, n_jobs=1))\n",
        "    print(\"Depth: %i Accuracy: %.3f\" % (depth,score))"
      ]
    },
    {
      "cell_type": "markdown",
      "metadata": {
        "id": "NDBW1jGgWhCk"
      },
      "source": [
        "#### We can see that the point up to which the performance is increasing is the depth 3. We can specify the depth and witness the results."
      ]
    },
    {
      "cell_type": "code",
      "execution_count": null,
      "metadata": {
        "id": "x1IlOzyvWhCl",
        "outputId": "fc54d507-929a-4cda-ca9b-38a985e6934f"
      },
      "outputs": [
        {
          "name": "stdout",
          "output_type": "stream",
          "text": [
            "Accuracy for DT = 0.83592574009\n",
            "Precision for DT = 0.900260190807\n",
            "Recall for DT = 0.900260190807\n"
          ]
        }
      ],
      "source": [
        "dt_clf = DecisionTreeClassifier(max_depth=3)\n",
        "dt_clf.fit(X,y)\n",
        "#Predicting \n",
        "pred_dt= dt_clf.predict(X)\n",
        "dt_accuracy= metrics.accuracy_score(communities_crime_df['highCrime'], pred_dt)\n",
        "dt_precision= metrics.precision_score(communities_crime_df['highCrime'], pred_dt)\n",
        "dt_recall= metrics.recall_score(communities_crime_df['highCrime'], pred_dt)\n",
        "print(\"Accuracy for DT =\",dt_accuracy)\n",
        "print(\"Precision for DT =\",dt_precision)\n",
        "print(\"Recall for DT =\",dt_precision)"
      ]
    },
    {
      "cell_type": "markdown",
      "metadata": {
        "collapsed": false,
        "id": "yAya6o0DWhCl"
      },
      "source": [
        "##### ii. What are the main features used for classification? Can you explain why they make sense (or not)?"
      ]
    },
    {
      "cell_type": "code",
      "execution_count": null,
      "metadata": {
        "id": "LYlTZ9bdWhCl",
        "outputId": "1459fcff-8f0c-46b0-bbb7-016bae8ec480"
      },
      "outputs": [
        {
          "data": {
            "image/png": "[encoded data removed]",
            "text/plain": [
              "<IPython.core.display.Image object>"
            ]
          },
          "execution_count": 76,
          "metadata": {},
          "output_type": "execute_result"
        }
      ],
      "source": [
        "dot_data = tree.export_graphviz(dt_clf, out_file=None,feature_names=list(X))\n",
        "\n",
        "graph = pydotplus.graph_from_dot_data(dot_data)  \n",
        "Image(graph.create_png()) "
      ]
    },
    {
      "cell_type": "code",
      "execution_count": null,
      "metadata": {
        "id": "mXZqTTd3WhCl",
        "outputId": "84aa8762-fbae-44a0-aaef-3751c5dcfc87"
      },
      "outputs": [
        {
          "name": "stdout",
          "output_type": "stream",
          "text": [
            "Feature ranking:\n",
            "The main features used for classification\n",
            "Index(['PctKids2Par', 'racePctWhite', 'racePctHisp', 'HousVacant',\n",
            "       'LemasPctOfficDrugUn'],\n",
            "      dtype='object')\n",
            "Top main feature is PctKids2Par\n"
          ]
        }
      ],
      "source": [
        "# We can check the main features used for classification by checking the feature importance, the higher the value,\n",
        "# more important the feature would be.\n",
        "# We can sort the importance scores in descending order and take the top most.\n",
        "importances=dt_clf.feature_importances_\n",
        "indices = np.argsort(importances)[::-1]\n",
        "# Print the feature ranking\n",
        "print(\"Feature ranking:\")\n",
        "# We have taken the top 5 feature \n",
        "print(\"The main features used for classification\")\n",
        "print(X.columns[indices[:5]])\n",
        "print(\"Top main feature is\",X.columns[indices[:1]][0])"
      ]
    },
    {
      "cell_type": "markdown",
      "metadata": {
        "id": "0yOMV85sWhCm"
      },
      "source": [
        "#### The top main feature is PctKids2Par because it is the split point of the tree. This feature depicts the kids with two parents."
      ]
    },
    {
      "cell_type": "markdown",
      "metadata": {
        "id": "O1MijZqFWhCm"
      },
      "source": [
        "#### c. Now apply cross-validation (cross_val_score) to do 10-fold cross-validation to estimate the out-of-training accuracy of decision tree learning for this task.  \n",
        "##### i. What are the 10-fold cross-validation accuracy, precision, and recall?"
      ]
    },
    {
      "cell_type": "code",
      "execution_count": null,
      "metadata": {
        "id": "BVvzFP-sWhCm",
        "outputId": "79ef3158-60db-49be-9edc-976d9f8a60be"
      },
      "outputs": [
        {
          "name": "stdout",
          "output_type": "stream",
          "text": [
            "Cross Validation Accuracy DT: 0.798243718593\n",
            "Cross Validation Recall DT: 0.843267479959\n",
            "Cross Validation Precision DT: 0.8392\n"
          ]
        }
      ],
      "source": [
        "# Applying 10 fold cross validation\n",
        "dt_cv_accuracy = cross_val_score(dt_clf, X, y, cv=10).mean()\n",
        "dt_cv_precision= cross_val_score(dt_clf, X, y, cv=10, scoring='precision').mean()\n",
        "dt_cv_recall = cross_val_score(dt_clf, X, y, cv=10, scoring='recall').mean()\n",
        "print(\"Cross Validation Accuracy DT:\", dt_cv_accuracy)\n",
        "print(\"Cross Validation Recall DT:\", dt_cv_precision)\n",
        "print(\"Cross Validation Precision DT:\", dt_cv_recall)\n"
      ]
    },
    {
      "cell_type": "markdown",
      "metadata": {
        "id": "nA2yDAk-WhCm"
      },
      "source": [
        "##### ii. Why are they different from the results in the previous test?\n",
        "We use cross-validation to get a better estimate of the generalization error on new unseen data where as the common problem that is in Decision trees is overfitting, in which many training examples are fitting the training data perfectly or nearly perfectly which leads to an overly specific model and lower performance. Thus, we\n",
        "contrained the tree to include only up to three levels, since a simple tree is more general. Thus, the results obtained after specifying are more realistic.\n",
        "These results are different from cross validation results as the train and test data are different in cross validation on the other hand DT train on all the exmaples."
      ]
    },
    {
      "cell_type": "markdown",
      "metadata": {
        "id": "u8caWGUJWhCn"
      },
      "source": [
        "### 2. Linear Classification\n",
        "---\n",
        "#### a. Use GaussianNB to learn a Naive Bayes classifier to predict highCrime.  \n",
        "##### i. What is the 10-fold cross-validation accuracy, precision, and recall for this method?"
      ]
    },
    {
      "cell_type": "code",
      "execution_count": null,
      "metadata": {
        "id": "MzF9aN3kWhCn",
        "outputId": "023f1957-cee8-4dfc-a86e-b2c7edf06cce"
      },
      "outputs": [
        {
          "name": "stdout",
          "output_type": "stream",
          "text": [
            "Accuracy for gaussian : 0.761608040201\n",
            "Recall for gaussian: 0.692\n",
            "Precision for gaussian: 0.911799814828\n"
          ]
        }
      ],
      "source": [
        "# Using GaussianNB\n",
        "gaussian_clf = GaussianNB()\n",
        "gaussian_clf.fit(X, y)\n",
        "\n",
        "# Applying 10 fold cross validation\n",
        "gaussian_accuracy = cross_val_score(gaussian_clf, X, y, cv=10).mean()\n",
        "gaussian_precision= cross_val_score(gaussian_clf, X, y, cv=10, scoring='precision').mean()\n",
        "gaussian_recall = cross_val_score(gaussian_clf, X, y, cv=10, scoring='recall').mean()\n",
        "print(\"Accuracy for gaussian :\", gaussian_accuracy)\n",
        "print(\"Recall for gaussian:\", gaussian_recall)\n",
        "print(\"Precision for gaussian:\", gaussian_precision)\n"
      ]
    },
    {
      "cell_type": "markdown",
      "metadata": {
        "id": "w-BJlsPFWhCn"
      },
      "source": [
        "What are the 10 most predictive features? This can be\n",
        "measured by the normalized absolute difference of means for\n",
        "the feature between the two classes:\n",
        "|𝜇𝑇 − 𝜇𝐹|/𝜎𝑇 + 𝜎𝐹\n",
        "The larger this different, the more predictive the feature. Why\n",
        "do these make sense (or not)?"
      ]
    },
    {
      "cell_type": "code",
      "execution_count": null,
      "metadata": {
        "id": "B88YCGwmWhCo",
        "outputId": "b5e2726b-4cb2-4130-9ee5-70c336ae4b0c"
      },
      "outputs": [
        {
          "name": "stdout",
          "output_type": "stream",
          "text": [
            "('MalePctDivorce', 0.6165342437579264)\n",
            "('PctTeen2Par', 0.6426208020335665)\n",
            "('pctWInvInc', 0.6607203219208594)\n",
            "('PctYoungKids2Par', 0.6646705535981033)\n",
            "('TotalPctDiv', 0.6742823162675443)\n",
            "('FemalePctDiv', 0.6936040623575482)\n",
            "('PctIlleg', 0.7089291060645266)\n",
            "('racePctWhite', 0.7348840522379364)\n",
            "('PctFam2Par', 0.74516152011997)\n",
            "('PctKids2Par', 0.8093364216318364)\n"
          ]
        }
      ],
      "source": [
        "df_predictiveFeature = communities_crime_df.drop('state', axis=1).drop('communityname', axis=1).drop('fold', axis=1)\n",
        "\n",
        "dictPredFeature = {}\n",
        "# Collecting data for the two classes\n",
        "true_df = X[df_predictiveFeature['highCrime'] == 1]\n",
        "false_df = X[df_predictiveFeature['highCrime'] == 0]\n",
        "for column in X:\n",
        "    mean_true = true_df[column].mean()\n",
        "    mean_false = false_df[column].mean()\n",
        "    var_true = true_df[column].var()\n",
        "    var_false = false_df[column].var()\n",
        "    if(column != 'highCrime'):\n",
        "        predScore = abs((mean_true - mean_false))/(math.sqrt(var_true)+math.sqrt(var_false))\n",
        "        dictPredFeature[column] = predScore\n",
        "most_pred_features = sorted(dictPredFeature.items(), key=lambda x: x[1])[-10:]\n",
        "for i in most_pred_features:\n",
        "    print(i)\n"
      ]
    },
    {
      "cell_type": "markdown",
      "metadata": {
        "id": "x-qiLY7RWhCo"
      },
      "source": [
        "##### iii. How do these results compare with your results from decision trees, above?\n",
        "We have plotted the results obtained.  \n",
        "\n",
        "We can see that the accuracy and recall are higher in case of Decision Trees but the precision is higher in case of Gaussian NB.\n",
        "We have to consider different criteria for choosing a classifier depending upon what we are predicting. Accuracy is not always the most appropriate method to choose the classifier. Here, in case of Crime Prediction, Precision would be the best criteria to compare and it is higher in case of Gaussian NB so the results are better in this case."
      ]
    },
    {
      "cell_type": "code",
      "execution_count": null,
      "metadata": {
        "id": "5tt_I3s-WhCo",
        "outputId": "557276e9-f564-42f9-de65-9c006b16cee6"
      },
      "outputs": [
        {
          "data": {
            "image/png": "[encoded data removed]",
            "text/plain": [
              "<matplotlib.figure.Figure at 0x1fb1d2216d8>"
            ]
          },
          "metadata": {},
          "output_type": "display_data"
        }
      ],
      "source": [
        "labels = [\"DT\" ,\"GaussianNB\"]\n",
        "acc_list = [dt_cv_accuracy,gaussian_accuracy]\n",
        "pre_list = [dt_cv_precision,gaussian_precision]\n",
        "re_list = [dt_cv_recall,gaussian_recall]\n",
        "\n",
        "x_axis_range = range(2)\n",
        "plt.xticks(x_axis_range, labels, rotation='vertical')\n",
        "# plt.legend()\n",
        "\n",
        "plt.plot(x_axis_range,acc_list,'ro',color=\"Red\",label=\"Accuracy\")\n",
        "plt.plot(x_axis_range,pre_list,'>',color=\"green\",label=\"Precision\")\n",
        "plt.plot(x_axis_range,re_list,'<',color=\"green\",label=\"Recall\")\n",
        "\n",
        "plt.xlabel('Model')\n",
        "plt.ylabel('Metrics')\n",
        "plt.margins(0.2)\n",
        "plt.subplots_adjust(bottom=0.15)\n",
        "legend = plt.legend()\n",
        "plt.show()"
      ]
    },
    {
      "cell_type": "markdown",
      "metadata": {
        "id": "Rk_7YK7qWhCr"
      },
      "source": [
        "#### b. Use LinearSVC to learn a linear Support Vector Machine model to predict highCrime.\n",
        "##### i. What is the 10-fold cross-validation accuracy, precision, and recall for this method?"
      ]
    },
    {
      "cell_type": "code",
      "execution_count": null,
      "metadata": {
        "id": "6LMZSnNdWhCr",
        "outputId": "02188058-8649-4b37-f2f9-a3984b38cddd"
      },
      "outputs": [
        {
          "name": "stdout",
          "output_type": "stream",
          "text": [
            "Accuracy for LinearSVC is 0.804753768844\n",
            "Precision for LinearSVC is 0.855179372789\n",
            "Recall for LinearSVC is 0.8376\n"
          ]
        }
      ],
      "source": [
        "linearsvmclf = svm.SVC(kernel='linear', C =1.0)\n",
        "accuracy_svm = cross_val_score(linearsvmclf, X, y, cv=10, scoring='accuracy').mean()\n",
        "precision_svm = cross_val_score(linearsvmclf, X, y, cv=10, scoring='precision').mean()\n",
        "recall_svm = cross_val_score(linearsvmclf, X, y, cv=10, scoring='recall').mean()\n",
        "print ('Accuracy for LinearSVC is', accuracy_svm)\n",
        "print ('Precision for LinearSVC is', precision_svm)\n",
        "print ('Recall for LinearSVC is', recall_svm)"
      ]
    },
    {
      "cell_type": "markdown",
      "metadata": {
        "id": "Ecf0mauYWhCr"
      },
      "source": [
        "#### ii. What are the 10 most predictive features? This can be measured by the absolute feature weights in the model. Why do these make sense (or not)?"
      ]
    },
    {
      "cell_type": "code",
      "execution_count": null,
      "metadata": {
        "id": "-kT4oYNlWhCr",
        "outputId": "6b9c5646-3f5e-470d-e9a8-dd2e025f425c"
      },
      "outputs": [
        {
          "data": {
            "text/plain": [
              "[('agePct12t21', 0.98442987941004556),\n",
              " ('RentHighQ', 0.99163825361111957),\n",
              " ('PersPerOccupHous', 1.0275543973528991),\n",
              " ('MalePctDivorce', 1.073578841827074),\n",
              " ('population', 1.1086454264275147),\n",
              " ('PctFam2Par', 1.5426528869036265),\n",
              " ('racepctblack', 1.7203177655788284),\n",
              " ('PctKids2Par', 2.0576723456134776),\n",
              " ('racePctWhite', 2.2351581784693813),\n",
              " ('pctWInvInc', 2.3861552101921903)]"
            ]
          },
          "execution_count": 83,
          "metadata": {},
          "output_type": "execute_result"
        }
      ],
      "source": [
        "linearsvmclf.fit(X,y)\n",
        "\n",
        "linearsvmclf_coef_array = {}\n",
        "count = 0\n",
        "for i in X.columns:\n",
        "    linearsvmclf_coef_array[i] = abs(linearsvmclf.coef_[0][count])\n",
        "    count = count+ 1\n",
        "\n",
        "most_predictive_features = sorted(linearsvmclf_coef_array.items(), key=lambda x: x[1])[-10:]\n",
        "most_predictive_features\n"
      ]
    },
    {
      "cell_type": "markdown",
      "metadata": {
        "id": "efMWURsnWhCs"
      },
      "source": [
        "#### iii. How do these results compare with your results from decision trees, above?"
      ]
    },
    {
      "cell_type": "markdown",
      "metadata": {
        "id": "Qlri8VsJWhCs"
      },
      "source": [
        "We have plotted the results obtained from linear SVM and DT.  \n",
        "We can see that the accuracy and recall are higher in case of Decision Trees but the precision is higher in case of linear SVM.\n",
        "Precision would be the best criteria to compare and it is higher in case of linear SVM so the results are better in this case."
      ]
    },
    {
      "cell_type": "code",
      "execution_count": null,
      "metadata": {
        "id": "6jObHNcvWhCs",
        "outputId": "7eceac0e-22a2-40b9-cde8-760faa82c7dc"
      },
      "outputs": [
        {
          "data": {
            "image/png": "[encoded data removed]",
            "text/plain": [
              "<matplotlib.figure.Figure at 0x1fb1d1931d0>"
            ]
          },
          "metadata": {},
          "output_type": "display_data"
        }
      ],
      "source": [
        "labels = [\"DT\" ,\"LinearSVC\"]\n",
        "acc_list = [dt_cv_accuracy,accuracy_svm]\n",
        "pre_list = [dt_cv_precision,precision_svm]\n",
        "re_list = [dt_cv_recall,recall_svm]\n",
        "\n",
        "x_axis_range = range(2)\n",
        "plt.xticks(x_axis_range, labels, rotation='vertical')\n",
        "# plt.legend()\n",
        "\n",
        "plt.plot(x_axis_range,acc_list,'ro',color=\"Red\",label=\"Accuracy\")\n",
        "plt.plot(x_axis_range,pre_list,'>',color=\"green\",label=\"Precision\")\n",
        "plt.plot(x_axis_range,re_list,'<',color=\"green\",label=\"Recall\")\n",
        "\n",
        "plt.xlabel('Model')\n",
        "plt.ylabel('Metrics')\n",
        "plt.margins(0.2)\n",
        "plt.subplots_adjust(bottom=0.15)\n",
        "legend = plt.legend()\n",
        "plt.show()"
      ]
    },
    {
      "cell_type": "markdown",
      "metadata": {
        "id": "B5YRqxmgWhCt"
      },
      "source": [
        "### 3. Regression\n",
        "#### a. Use LinearRegression to learn a linear model directly predicting the crime rate per capita (ViolentCrimesPerPop).\n",
        "##### i. Using 10-fold cross-validation, what is the estimated meansquared- error (MSE) of the model?"
      ]
    },
    {
      "cell_type": "code",
      "execution_count": null,
      "metadata": {
        "scrolled": true,
        "id": "i04Ao3FpWhCt",
        "outputId": "f99db52d-9a7b-42c7-9980-e252d33d40d0"
      },
      "outputs": [
        {
          "name": "stdout",
          "output_type": "stream",
          "text": [
            "Estimated meansquared- error (MSE) of the model is 0.0200939693044\n"
          ]
        }
      ],
      "source": [
        "Y = communities_crime_df['ViolentCrimesPerPop']\n",
        "linear_regression = LinearRegression()\n",
        "#df = df.drop('highCrime', 1)\n",
        "mean_sq_err= cross_val_score(linear_regression,X, Y,None,scoring='neg_mean_squared_error',cv=10)\n",
        "print(\"Estimated meansquared- error (MSE) of the model is\",np.abs(mean_sq_err.mean()))"
      ]
    },
    {
      "cell_type": "markdown",
      "metadata": {
        "id": "BkLgN4GkWhCt"
      },
      "source": [
        "##### ii. What is the MSE on the training set (train on all the data then test on it all)?"
      ]
    },
    {
      "cell_type": "code",
      "execution_count": null,
      "metadata": {
        "id": "_9oID9dlWhCt",
        "outputId": "b32adb64-33e6-445b-93a2-f5b0e93ca762"
      },
      "outputs": [
        {
          "name": "stdout",
          "output_type": "stream",
          "text": [
            "MSE on the training set is 0.016516774880307207\n"
          ]
        }
      ],
      "source": [
        "linear_regression.fit(X,Y)\n",
        "print(\"MSE on the training set is {}\".format(np.mean((linear_regression.predict(X) - Y) ** 2)))"
      ]
    },
    {
      "cell_type": "markdown",
      "metadata": {
        "id": "VzOkPeIuWhCu"
      },
      "source": [
        "##### iii. What features are most predictive of a high crime rate? A low crime rate?\n",
        "We can check the most predictive features by checking the coefficients, the larger the coeff, more predictive the feature."
      ]
    },
    {
      "cell_type": "code",
      "execution_count": null,
      "metadata": {
        "id": "AEifxMg0WhCu",
        "outputId": "c2c0cb6c-45cd-4f85-e6e6-16a799c32b46"
      },
      "outputs": [
        {
          "name": "stdout",
          "output_type": "stream",
          "text": [
            "Most Predictive Feature of a High Crime Rate is PersPerOccupHous\n",
            "Most Predictive Feature of a Low Crime Rate is PctPersOwnOccup\n"
          ]
        }
      ],
      "source": [
        "# Taking the coefficients in an array\n",
        "list_coef = np.array(linear_regression.coef_)\n",
        "\n",
        "\n",
        "print(\"Most Predictive Feature of a High Crime Rate is\", X.columns[np.argmax(list_coef)])\n",
        "print(\"Most Predictive Feature of a Low Crime Rate is\", X.columns[np.argmin(list_coef)])"
      ]
    },
    {
      "cell_type": "markdown",
      "metadata": {
        "id": "bxKr-pUNWhCu"
      },
      "source": [
        "#### b.Now use Ridge regression to reduce the amount of overfitting, using RidgeCV to pick the best alpha from among (10, 1, 0.1, 0.01, and 0.001).\n"
      ]
    },
    {
      "cell_type": "code",
      "execution_count": null,
      "metadata": {
        "id": "BmRMtJ8yWhCu",
        "outputId": "2a84b13a-ad8c-4e99-eff0-2a111ef1805b"
      },
      "outputs": [
        {
          "name": "stdout",
          "output_type": "stream",
          "text": [
            "Best alpha 1.0\n"
          ]
        }
      ],
      "source": [
        "clf = RidgeCV(alphas=(10, 1, 0.1, 0.01, 0.001))\n",
        "clf.fit(X, Y)\n",
        "print(\"Best alpha\", clf.alpha_)  \n",
        "\n",
        "#Other way to find out best aplha \n",
        "#alphas = np.array([10, 1, 0.1, 0.01, 0.001])\n",
        "#model = Ridge()\n",
        "#grid = GridSearchCV(estimator=model, param_grid=dict(alpha=alphas))\n",
        "#grid.fit(X, Y)\n",
        "#print(grid.best_estimator_.alpha)"
      ]
    },
    {
      "cell_type": "markdown",
      "metadata": {
        "id": "hcM4LbvXWhCu"
      },
      "source": [
        "##### i. What is the estimated MSE of the model under 10-fold CV?"
      ]
    },
    {
      "cell_type": "code",
      "execution_count": null,
      "metadata": {
        "id": "kooaWy_wWhCu",
        "outputId": "b36b8945-17c6-4484-ae2f-6fe9257b8d86"
      },
      "outputs": [
        {
          "name": "stdout",
          "output_type": "stream",
          "text": [
            "Estimated meansquared- error (MSE) of the model is 0.0197950213482\n"
          ]
        }
      ],
      "source": [
        "ridge_clf = linear_model.Ridge(alpha=1.0)\n",
        "ridge_clf.fit(X,Y)\n",
        "mean_sq_err= cross_val_score(ridge_clf,X, Y,None,scoring='neg_mean_squared_error',cv=10)\n",
        "print(\"Estimated meansquared- error (MSE) of the model is\",np.abs(mean_sq_err.mean()))\n"
      ]
    },
    {
      "cell_type": "markdown",
      "metadata": {
        "id": "PV6LprVnWhCv"
      },
      "source": [
        "##### ii. What is the MSE on the training set (train on all the data then test on it all)?"
      ]
    },
    {
      "cell_type": "code",
      "execution_count": null,
      "metadata": {
        "id": "sJ3mbwQJWhCv",
        "outputId": "c43cf0ce-08db-470e-ff93-42128657c978"
      },
      "outputs": [
        {
          "name": "stdout",
          "output_type": "stream",
          "text": [
            "MSE on the training set is 0.02\n"
          ]
        }
      ],
      "source": [
        "\n",
        "print(\"MSE on the training set is {0:0.2f}\".format(np.mean((ridge_clf.predict(X) - Y) ** 2)))\n",
        "\n",
        "#ridge_reg=linear_model.Ridge(alpha = 0.001)\n",
        "#ridge_reg.fit(X,Y)\n",
        "\n",
        "#print(\"Mean squared error: %.2f\"\n",
        "#      % np.mean((ridge_reg.predict(X) - Y) ** 2))\n",
        "#print(\"MSE on the training set is {}\".format(np.mean((ridge_reg.predict(X) - Y) ** 2)))"
      ]
    },
    {
      "cell_type": "markdown",
      "metadata": {
        "collapsed": false,
        "id": "H9aJNsHqWhCv"
      },
      "source": [
        "####  iii. What is the best alpha?\n",
        "We have calculate the best alpha using RidgeCV and re-verified by using GridSearchCV.  \n",
        "\n",
        "The best alpha is 1."
      ]
    },
    {
      "cell_type": "markdown",
      "metadata": {
        "collapsed": true,
        "id": "TAxGEY07WhCv"
      },
      "source": [
        "#### iv. What does this say about the amount of overfitting in linear regression for this problem?"
      ]
    },
    {
      "cell_type": "markdown",
      "metadata": {
        "id": "E1_B4-FqWhCv"
      },
      "source": [
        "#### c. Now use polynomial features to do quadratic (second-order) polynomial regression.\n",
        "##### i.What is the estimated MSE of the model under 10-fold CV?"
      ]
    },
    {
      "cell_type": "code",
      "execution_count": null,
      "metadata": {
        "id": "eadmG7tDWhCv",
        "outputId": "13f055a7-e5a4-496b-d748-7f12f77d4cae"
      },
      "outputs": [
        {
          "name": "stdout",
          "output_type": "stream",
          "text": [
            "Estimated MSE of the model under 10-fold CV is 0.129900201476\n"
          ]
        }
      ],
      "source": [
        "poly_feature = PolynomialFeatures(degree  = 2, interaction_only = False)\n",
        "poly_df = poly_feature.fit_transform(X)\n",
        "ridge_clf.fit(poly_df,y)\n",
        "## caluclating MSE\n",
        "poly_mse= cross_val_score(linear_regression, poly_df, Y,None,scoring='neg_mean_squared_error',cv=10)\n",
        "print(\"Estimated MSE of the model under 10-fold CV is\",np.abs(poly_mse.mean()))\n"
      ]
    },
    {
      "cell_type": "code",
      "execution_count": null,
      "metadata": {
        "id": "TjyPJRCpWhCv",
        "outputId": "57fa23c7-9230-47a0-c3d7-ea39050846e9"
      },
      "outputs": [
        {
          "name": "stdout",
          "output_type": "stream",
          "text": [
            "Mean squared error: 0.23\n"
          ]
        }
      ],
      "source": [
        "\n",
        "print(\"Mean squared error: %.2f\" % np.mean((ridge_clf.predict(poly_df) - Y) ** 2))"
      ]
    },
    {
      "cell_type": "markdown",
      "metadata": {
        "id": "5gO-ptOeWhCw"
      },
      "source": [
        "##### Does this mean the quadratic model is better than the linear model for this problem?\n",
        "Polynomial Regression is not better than the linear model as the MSE is higher in this case if we compare the value of polynomial regression MSE which is 0.3 to the value of linear SVC mSE which is 0.02."
      ]
    },
    {
      "cell_type": "markdown",
      "metadata": {
        "id": "w8gENq1lWhCw"
      },
      "source": [
        "### 4. Dirty Data\n",
        "#### Repeat the decision tree learning question for the full (non-clean) data set and present the results.\n",
        "#### a. Are the CV results better or worse? What does this say about the effect of missing values?"
      ]
    },
    {
      "cell_type": "code",
      "execution_count": null,
      "metadata": {
        "id": "l8qrgMnrWhCw"
      },
      "outputs": [],
      "source": [
        "# import dirty data\n",
        "df_d = pd.read_csv('communities-crime-full.csv')\n"
      ]
    },
    {
      "cell_type": "code",
      "execution_count": null,
      "metadata": {
        "id": "ol3WxwGHWhCw",
        "outputId": "784be4d3-081a-47cc-af47-4307262ce652"
      },
      "outputs": [
        {
          "name": "stdout",
          "output_type": "stream",
          "text": [
            "highCrime\n",
            "False    37.261785\n",
            "True     62.738215\n",
            "dtype: float64\n",
            "------------------\n",
            "Percentage Positive Instance = 62.7382146439318\n",
            "Percentage Negative Instance = 37.2617853560682 \n"
          ]
        }
      ],
      "source": [
        "# Making data clean \n",
        "\n",
        "df_d_clean = df_d.replace('?', np.nan)\n",
        "df_d_clean = df_d_clean.drop('community', axis=1).drop('state', axis=1).drop('communityname', axis=1).drop('fold', axis=1).drop('county', axis=1)\n",
        "cols_numeric = df_d_clean.columns\n",
        "imp = Imputer(missing_values='NaN', strategy='mean', axis=0)\n",
        "Y = imp.fit_transform(df_d_clean)\n",
        "df_d_clean = pd.DataFrame(Y)\n",
        "df_d_clean.columns = cols_numeric\n",
        "df_d_clean['highCrime'] = df_d_clean.apply(setHighCrime, axis=1)\n",
        "\n",
        "percentage_intances = df_d_clean.groupby('highCrime').size() * 100 / len(df_d_clean)\n",
        "print(percentage_intances)\n",
        "print(\"------------------\")\n",
        "print(\"Percentage Positive Instance = {}\\nPercentage Negative Instance = {} \".format(percentage_intances[1],percentage_intances[0]))"
      ]
    },
    {
      "cell_type": "code",
      "execution_count": null,
      "metadata": {
        "id": "p0HgjDAaWhCw",
        "outputId": "3f79012e-6c47-4479-e843-c1da69251400"
      },
      "outputs": [
        {
          "name": "stdout",
          "output_type": "stream",
          "text": [
            "Training Accuracy = 0.8360080240722166 Precision = 0.9003466204506065 Recall = 0.8305355715427658\n"
          ]
        }
      ],
      "source": [
        "y = df_d_clean[\"highCrime\"]\n",
        "X = df_d_clean.drop('highCrime', axis=1).drop('ViolentCrimesPerPop', axis=1)\n",
        "\n",
        "# taking max_depth 3 to avoid overfitting \n",
        "dt = DecisionTreeClassifier(max_depth=3)\n",
        "\n",
        "dt.fit(X,y)\n",
        "predicted = dt.predict(X)\n",
        "\n",
        "recall_score = metrics.recall_score(df_d_clean['highCrime'], predicted)\n",
        "precision_score = metrics.precision_score(df_d_clean['highCrime'], predicted)\n",
        "accuracy_score = metrics.accuracy_score(df_d_clean['highCrime'], predicted)\n",
        "\n",
        "print(\"Training Accuracy = {} Precision = {} Recall = {}\".format(accuracy_score,precision_score,recall_score))"
      ]
    },
    {
      "cell_type": "code",
      "execution_count": null,
      "metadata": {
        "id": "u8OQaPSrWhCx",
        "outputId": "419dc684-9ea3-418c-8518-66d570ecfbde"
      },
      "outputs": [
        {
          "name": "stdout",
          "output_type": "stream",
          "text": [
            "Feature ranking:\n",
            "[44  3  5 71 39]\n",
            "Index(['PctKids2Par', 'racePctWhite', 'racePctHisp', 'HousVacant',\n",
            "       'MalePctNevMarr'],\n",
            "      dtype='object')\n"
          ]
        }
      ],
      "source": [
        "# We can check the main features used for classification by checking the feature importnaces, the higher the value,\n",
        "# more important the feature would be.\n",
        "# We can sort the impostamce scores in descending order and take the top most.\n",
        "importances=dt.feature_importances_\n",
        "indices = np.argsort(importances)[::-1]\n",
        "# Print the feature ranking\n",
        "print(\"Feature ranking:\")\n",
        "print(indices[:5])\n",
        "print(X.columns[indices[:5]])"
      ]
    },
    {
      "cell_type": "code",
      "execution_count": null,
      "metadata": {
        "id": "HqKucI8mWhCx",
        "outputId": "4b3c0386-7e95-4318-8288-b6068623b062"
      },
      "outputs": [
        {
          "name": "stdout",
          "output_type": "stream",
          "text": [
            "Results after applying 10-fold cross-validation\n",
            "Accuracy: 0.81 (+/- 0.02)\n",
            "Recall 0.817777777778\n",
            "Precision 0.877539377831\n"
          ]
        }
      ],
      "source": [
        "scores = cross_val_score(dt, X, y, cv=10)\n",
        "\n",
        "precision= cross_val_score(dt, X, y, cv=10, scoring='precision')\n",
        "recal = cross_val_score(dt, X, y, cv=10, scoring='recall')\n",
        "print(\"Results after applying 10-fold cross-validation\")\n",
        "print(\"Accuracy: %0.2f (+/- %0.2f)\" % (scores.mean(), scores.std()))\n",
        "print(\"Recall\", np.mean(recal))\n",
        "print(\"Precision\", np.mean(precision))"
      ]
    },
    {
      "cell_type": "markdown",
      "metadata": {
        "id": "XjfzZ4NKWhCx"
      },
      "source": [
        "##### a. Are the CV results better or worse? What does this say about the effect of missing values?\n",
        "The CV results are a tad better in clean data as compared to the dirty data.In case of dirty data we have replaced the missing values by mean so nothing can be said about those."
      ]
    },
    {
      "cell_type": "markdown",
      "metadata": {
        "id": "rPWW-lUDWhCx"
      },
      "source": [
        "## 5. Team Work\n",
        "### We have taken two learning methods: Polynomial Kernel and K means"
      ]
    },
    {
      "cell_type": "markdown",
      "metadata": {
        "id": "3fNhVYlAWhCx"
      },
      "source": [
        "i. Experiment with two learning methods other than those described above (one can be a non-linear kernel for SVM) for\n",
        "the classification problem, explaining clearly what you did.Show CV results for both the clean and full datasets."
      ]
    },
    {
      "cell_type": "code",
      "execution_count": null,
      "metadata": {
        "id": "XWGE3iCKWhCx",
        "outputId": "ec68a2ef-314e-4ea1-b6e9-e0ebafed6d18"
      },
      "outputs": [
        {
          "name": "stdout",
          "output_type": "stream",
          "text": [
            "Accuracy for polynomial(Dirty Data) is 0.832994174854\n",
            "Precision for polynomial(Dirty Data) is 0.867708277094\n",
            "Recall for polynomial(Dirty Data) is 0.866507936508\n"
          ]
        }
      ],
      "source": [
        "# Applying polynomial Kernel SVC\n",
        "poly_clf = svm.SVC(kernel='poly', degree=2, C= 50)\n",
        "X_d = X\n",
        "y_d = y\n",
        "# For large values of C, the optimization will choose a smaller-margin hyperplane if that hyperplane does a better job of getting all the training points classified correctly.\n",
        "# non clean dataset \n",
        "poly_accuracy_d = cross_val_score(poly_clf, X_d, y_d, cv=10, scoring='accuracy').mean()\n",
        "poly_precision_d = cross_val_score(poly_clf, X_d, y_d, cv=10, scoring='precision').mean()\n",
        "poly_recall_d = cross_val_score(poly_clf, X_d, y_d, cv=10, scoring='recall').mean()\n",
        "\n",
        "print ('Accuracy for polynomial(Dirty Data) is', poly_accuracy_d)\n",
        "print ('Precision for polynomial(Dirty Data) is', poly_precision_d)\n",
        "print ('Recall for polynomial(Dirty Data) is', poly_recall_d)\n",
        "\n",
        "\n"
      ]
    },
    {
      "cell_type": "code",
      "execution_count": null,
      "metadata": {
        "id": "jgfy59KVWhCy",
        "outputId": "5b0a2cdf-b0f6-434e-99a7-bac8f19e1f44"
      },
      "outputs": [
        {
          "name": "stdout",
          "output_type": "stream",
          "text": [
            "Accuracy for polynomial(Clean Data) is 0.807271356784\n",
            "Precision for polynomial(Clean Data) is 0.854945616904\n",
            "Recall for polynomial(Clean Data) is 0.8448\n"
          ]
        }
      ],
      "source": [
        "# clean dataset\n",
        "X = communities_crime_df.drop('ViolentCrimesPerPop', axis=1).drop('state', axis=1).drop('communityname', axis=1).drop('fold', axis=1).drop('highCrime', axis=1)\n",
        "features = list(X.columns)\n",
        "y = communities_crime_df[\"highCrime\"]\n",
        "\n",
        "poly_accuracy = cross_val_score(poly_clf, X, y, cv=10, scoring='accuracy').mean()\n",
        "poly_precision = cross_val_score(poly_clf, X, y, cv=10, scoring='precision').mean()\n",
        "poly_recall = cross_val_score(poly_clf, X, y, cv=10, scoring='recall').mean()\n",
        "\n",
        "print ('Accuracy for polynomial(Clean Data) is', poly_accuracy)\n",
        "print ('Precision for polynomial(Clean Data) is', poly_precision)\n",
        "print ('Recall for polynomial(Clean Data) is', poly_recall)"
      ]
    },
    {
      "cell_type": "code",
      "execution_count": null,
      "metadata": {
        "id": "yM4DpMt4WhCy",
        "outputId": "a89e6853-e371-4c6a-ce15-11aa334a8167"
      },
      "outputs": [
        {
          "name": "stdout",
          "output_type": "stream",
          "text": [
            "Accuracy for KMeans(Dirty data) is 0.384595477387\n",
            "Precision for KMeans(Dirty data) is 0.636187500137\n",
            "Recall for KMeans(Dirty data) is 0.55086412992\n"
          ]
        }
      ],
      "source": [
        "#clf = KMeans(n_clusters = 2)\n",
        "km_clf = KMeans(n_clusters = 2)\n",
        "km_accuracy_d = cross_val_score(km_clf, X_d, y_d, cv=10, scoring='accuracy').mean()\n",
        "km_precision_d = cross_val_score(km_clf, X_d, y_d, cv=10, scoring='precision').mean()\n",
        "km_recall_d = cross_val_score(km_clf, X_d, y_d, cv=10, scoring='recall').mean()\n",
        "\n",
        "print ('Accuracy for KMeans(Dirty data) is', km_accuracy_d)\n",
        "print ('Precision for KMeans(Dirty data) is', km_precision_d)\n",
        "print ('Recall for KMeans(Dirty data) is', km_recall_d)\n",
        "\n",
        "\n",
        "\n",
        "\n",
        "\n"
      ]
    },
    {
      "cell_type": "code",
      "execution_count": null,
      "metadata": {
        "id": "GpTzCaqbWhCy",
        "outputId": "df984c6d-6737-425f-9220-73da506f605c"
      },
      "outputs": [
        {
          "name": "stdout",
          "output_type": "stream",
          "text": [
            "Accuracy is for KMeans(Clean data) 0.406989949749\n",
            "Precision is for KMeans(Clean data) 0.612484172735\n",
            "Recall is for KMeans(Clean data) 0.513012817885\n"
          ]
        }
      ],
      "source": [
        "\n",
        "km_accuracy = cross_val_score(km_clf, X, y, cv=10, scoring='accuracy').mean()\n",
        "km_precision = cross_val_score(km_clf, X, y, cv=10, scoring='precision').mean()\n",
        "km_recall = cross_val_score(km_clf, X, y, cv=10, scoring='recall').mean()\n",
        "\n",
        "print ('Accuracy is for KMeans(Clean data)', km_accuracy)\n",
        "print ('Precision is for KMeans(Clean data)', km_precision)\n",
        "print ('Recall is for KMeans(Clean data)', km_recall)"
      ]
    },
    {
      "cell_type": "code",
      "execution_count": null,
      "metadata": {
        "id": "Z0KdTVooWhCy",
        "outputId": "15f0ea7f-bb49-4df7-8354-506d238fe354"
      },
      "outputs": [
        {
          "data": {
            "image/png": "[encoded data removed]",
            "text/plain": [
              "<matplotlib.figure.Figure at 0x1fb18c6b908>"
            ]
          },
          "metadata": {},
          "output_type": "display_data"
        }
      ],
      "source": [
        "names = [\"Nonlinear SVM\" ,\"K Means\"]\n",
        "acc_list = [poly_accuracy,km_accuracy]\n",
        "pre_list = [poly_precision,km_precision]\n",
        "re_list = [poly_recall,km_recall]\n",
        "xaxisRange = range(2)\n",
        "plt.xticks(xaxisRange, names, rotation=45)\n",
        "# plt.legend()\n",
        "\n",
        "plt.plot(xaxisRange,acc_list,'ro',color=\"Red\",label=\"Accuracy\")\n",
        "plt.plot(xaxisRange,pre_list,'>',color=\"green\",label=\"Precision\")\n",
        "plt.plot(xaxisRange,pre_list,'<',color=\"green\",label=\"Recall\")\n",
        "\n",
        "plt.xlabel('Model')\n",
        "plt.ylabel('Metrics')\n",
        "plt.margins(0.2)\n",
        "plt.subplots_adjust(bottom=0.15)\n",
        "legend = plt.legend()\n",
        "plt.show()"
      ]
    },
    {
      "cell_type": "markdown",
      "metadata": {
        "id": "4GmweexUWhCy"
      },
      "source": [
        "#### ii. What method gives the best results?  \n",
        "Clearly the Nonlinear SVM has better results for metrics as compared to the other model which is K means."
      ]
    },
    {
      "cell_type": "markdown",
      "metadata": {
        "id": "i6Pqsw4VWhCy"
      },
      "source": [
        "#### iii. What feature(s) seem to be most consistently predictive of high crime rates? How reliable is this conclusion?"
      ]
    },
    {
      "cell_type": "markdown",
      "metadata": {
        "id": "Ffdc564yWhCz"
      },
      "source": [
        "## Extra Credit"
      ]
    },
    {
      "cell_type": "markdown",
      "metadata": {
        "id": "R2l91PBFWhCz"
      },
      "source": [
        "#### GradientBoostingClassifier"
      ]
    },
    {
      "cell_type": "code",
      "execution_count": null,
      "metadata": {
        "id": "hsPayynKWhCz",
        "outputId": "378bcb3e-91e3-4265-e354-024c655adabb"
      },
      "outputs": [
        {
          "name": "stdout",
          "output_type": "stream",
          "text": [
            "Accuracy for GradientBoostingClassifier(Dirty Data) is 0.838989249731\n",
            "Precision for GradientBoostingClassifier(Dirty Data) is 0.874019434226\n",
            "Recall for GradientBoostingClassifier(Dirty Data) is 0.868095238095\n"
          ]
        }
      ],
      "source": [
        "clf = GradientBoostingClassifier()\n",
        "clf.fit(X_d, y_d)\n",
        "#dirty dataset\n",
        "acc_scores = cross_val_score(clf, X_d, y_d, cv=10, scoring='accuracy').mean()\n",
        "pre_scores = cross_val_score(clf, X_d, y_d, cv=10, scoring='precision').mean()\n",
        "rec_scores = cross_val_score(clf, X_d, y_d, cv=10, scoring='recall').mean()\n",
        "print ('Accuracy for GradientBoostingClassifier(Dirty Data) is', acc_scores)\n",
        "print ('Precision for GradientBoostingClassifier(Dirty Data) is', pre_scores)\n",
        "print ('Recall for GradientBoostingClassifier(Dirty Data) is', rec_scores)\n",
        "\n",
        "\n"
      ]
    },
    {
      "cell_type": "code",
      "execution_count": null,
      "metadata": {
        "id": "NPiS1H9DWhCz",
        "outputId": "0611b5dd-150f-43a3-b01a-35a403ba82d2"
      },
      "outputs": [
        {
          "name": "stdout",
          "output_type": "stream",
          "text": [
            "Accuracy GradientBoostingClassifier(Clean Data) is 0.80072361809\n",
            "Precision GradientBoostingClassifier(Clean Data)is 0.848806289998\n",
            "Recall is GradientBoostingClassifier(Clean Data) is  0.8352\n"
          ]
        }
      ],
      "source": [
        "#clean dataset\n",
        "clf.fit(X, y)\n",
        "acc_scores = cross_val_score(clf, X, y, cv=10, scoring='accuracy').mean()\n",
        "pre_scores = cross_val_score(clf, X, y, cv=10, scoring='precision').mean()\n",
        "rec_scores = cross_val_score(clf, X, y, cv=10, scoring='recall').mean()\n",
        "print ('Accuracy GradientBoostingClassifier(Clean Data) is', acc_scores)\n",
        "print ('Precision GradientBoostingClassifier(Clean Data)is', pre_scores)\n",
        "print ('Recall is GradientBoostingClassifier(Clean Data) is ', rec_scores)"
      ]
    },
    {
      "cell_type": "code",
      "execution_count": null,
      "metadata": {
        "id": "AiwwcTOgWhCz",
        "outputId": "fb719f2d-9eb7-40be-eccf-296058d76daa"
      },
      "outputs": [
        {
          "name": "stdout",
          "output_type": "stream",
          "text": [
            "Accuracy for RandomForestClassifier is 0.817963874097\n",
            "Precision for RandomForestClassifier is 0.843663428685\n",
            "Recall for RandomForestClassifier is 0.872107936508\n"
          ]
        }
      ],
      "source": [
        "clf = RandomForestClassifier(random_state=100, max_depth=3)\n",
        "\n",
        "rf_accuracy = cross_val_score(clf, X_d, y_d, cv=10, scoring='accuracy').mean()\n",
        "rf_precision = cross_val_score(clf, X_d, y_d, cv=10, scoring='precision').mean()\n",
        "rf_recall = cross_val_score(clf, X_d, y_d, cv=10, scoring='recall').mean()\n",
        "\n",
        "print ('Accuracy for RandomForestClassifier is', rf_accuracy)\n",
        "print ('Precision for RandomForestClassifier is', rf_precision)\n",
        "print ('Recall for RandomForestClassifier is', rf_recall)"
      ]
    },
    {
      "cell_type": "markdown",
      "metadata": {
        "id": "mPystRVJWhCz"
      },
      "source": [
        "##### Random Classifier shows good results in terms of metrics and would be a good model to predict the crime data."
      ]
    },
    {
      "cell_type": "markdown",
      "metadata": {
        "id": "8LuqnMoNWhC0"
      },
      "source": [
        "### Conclusion:\n",
        "\n",
        "We have applied various models including: Decision Trees, Gaussian NB, Linear VNM, Regression, Linear SVM, Non linear SVM, K means, Gradient Boosting Classifier and Random Forests. We also performed the 10 fold cross validation. The results are different and we have plotted results based on the metrics for the different models. It can further be tested on many models to identify the best that can be used to predict the crime rate."
      ]
    }
  ],
  "metadata": {
    "anaconda-cloud": {},
    "celltoolbar": "Raw Cell Format",
    "kernelspec": {
      "display_name": "Python 3",
      "language": "python",
      "name": "python3"
    },
    "language_info": {
      "codemirror_mode": {
        "name": "ipython",
        "version": 3
      },
      "file_extension": ".py",
      "mimetype": "text/x-python",
      "name": "python",
      "nbconvert_exporter": "python",
      "pygments_lexer": "ipython3",
      "version": "3.6.0"
    },
    "colab": {
      "name": "crime_prediction.ipynb",
      "provenance": []
    }
  },
  "nbformat": 4,
  "nbformat_minor": 0
}